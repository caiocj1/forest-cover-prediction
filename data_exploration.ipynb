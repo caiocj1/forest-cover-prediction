{
 "cells": [
  {
   "cell_type": "code",
   "execution_count": 1,
   "metadata": {
    "collapsed": true
   },
   "outputs": [
    {
     "name": "stderr",
     "output_type": "stream",
     "text": [
      "C:\\Users\\caioj\\Anaconda3\\envs\\forest-env\\lib\\site-packages\\xgboost\\compat.py:36: FutureWarning: pandas.Int64Index is deprecated and will be removed from pandas in a future version. Use pandas.Index with the appropriate dtype instead.\n",
      "  from pandas import MultiIndex, Int64Index\n"
     ]
    }
   ],
   "source": [
    "import numpy as np\n",
    "import pandas as pd\n",
    "import sklearn\n",
    "import sklearn.neighbors\n",
    "import sklearn.ensemble\n",
    "import matplotlib.pyplot as plt\n",
    "import xgboost\n",
    "import lightgbm\n",
    "import os\n",
    "import scipy\n",
    "import torch\n",
    "\n",
    "from models.embed_mlp import EmbedMLPModel"
   ]
  },
  {
   "cell_type": "code",
   "execution_count": 2,
   "outputs": [],
   "source": [
    "train_df = pd.read_csv('data/train.csv')\n",
    "test_df = pd.read_csv('data/test-full.csv')"
   ],
   "metadata": {
    "collapsed": false
   }
  },
  {
   "cell_type": "code",
   "execution_count": 3,
   "outputs": [
    {
     "data": {
      "text/plain": "array([41559587,  2356218,   250338,  3453053,   775833, 25975823,\n        3220996,  3309250,  2033294, 23093650,     3568,      569,\n           6302,     4681,      339,      627,     1006,      839,\n            181,      679,        1,        2,        4,     2096,\n            376,      260,      513,      173,        0,      106,\n            640,       44,       53,      132,       10,      332,\n            742,      265,        6,       48,        8,        7,\n           1308,      736,      304,      663,      619,       18,\n            103,       14,       32,      744,      634,      456],\n      dtype=int64)"
     },
     "execution_count": 3,
     "metadata": {},
     "output_type": "execute_result"
    }
   ],
   "source": [
    "train_df_input = train_df.drop(['Id', 'Cover_Type'], axis=1)\n",
    "train_df_input.values.sum(0)"
   ],
   "metadata": {
    "collapsed": false
   }
  },
  {
   "cell_type": "code",
   "execution_count": 4,
   "outputs": [
    {
     "data": {
      "text/plain": "array([1719426752,   90438473,    8194421,  156541027,   26969912,\n       1365463383,  123259400,  129750854,   82810631, 1150572966,\n           260796,      29884,     253364,      36968,       3031,\n             7525,       4823,      12396,       1597,       6575,\n              105,        179,       1147,      32634,      12410,\n            29971,      17431,        599,          3,       2845,\n             3422,       1899,       4021,       9259,        838,\n            33373,      57752,      21278,        474,       2589,\n             1086,        946,     115247,      30170,      25666,\n            52519,      45154,       1611,       1891,        119,\n              298,      15573,      13806,       8750], dtype=int64)"
     },
     "execution_count": 4,
     "metadata": {},
     "output_type": "execute_result"
    }
   ],
   "source": [
    "test_df_input = test_df.drop(['Id'], axis=1)\n",
    "test_df_input.values.sum(0)"
   ],
   "metadata": {
    "collapsed": false
   }
  },
  {
   "cell_type": "code",
   "execution_count": 5,
   "outputs": [],
   "source": [
    "train_df_input = train_df_input.drop(train_df_input.columns[28], axis=1)\n",
    "test_df_input = test_df_input.drop(train_df_input.columns[28], axis=1)"
   ],
   "metadata": {
    "collapsed": false
   }
  },
  {
   "cell_type": "code",
   "execution_count": 17,
   "outputs": [],
   "source": [
    "full_train_X = (train_df_input.values - train_df_input.values.mean(0)) / train_df_input.values.std(0)\n",
    "full_train_y = train_df['Cover_Type'].values - 1\n",
    "\n",
    "full_test_X = (test_df_input.values - train_df_input.values.mean(0)) / train_df_input.values.std(0)\n",
    "\n",
    "label_encoding = False\n",
    "\n",
    "if label_encoding:\n",
    "    new_train_X = np.zeros((full_train_X.shape[0], 12))\n",
    "    new_test_X = np.zeros((full_test_X.shape[0], 12))\n",
    "\n",
    "    new_train_X[:, :-2] = full_train_X[:, :10]\n",
    "    new_train_X[:, -2] = np.argmax(full_train_X[:, -43:-39], axis=1)\n",
    "    new_train_X[:, -1] = np.argmax(full_train_X[:, -39:], axis=1)\n",
    "\n",
    "    new_test_X[:, :-2] = full_test_X[:, :10]\n",
    "    new_test_X[:, -2] = np.argmax(full_test_X[:, -43:-39], axis=1)\n",
    "    new_test_X[:, -1] = np.argmax(full_test_X[:, -39:], axis=1)\n",
    "\n",
    "    full_test_X = new_test_X\n",
    "    full_train_X = new_train_X"
   ],
   "metadata": {
    "collapsed": false
   }
  },
  {
   "cell_type": "markdown",
   "source": [
    "# Neighbor-based methods"
   ],
   "metadata": {
    "collapsed": false
   }
  },
  {
   "cell_type": "code",
   "execution_count": 7,
   "outputs": [],
   "source": [
    "# scores = sklearn.model_selection.cross_validate(sklearn.neighbors.KNeighborsClassifier(n_neighbors=1), full_train_X, train_df['Cover_Type'], cv=10, scoring='accuracy', return_train_score=True, verbose=2)"
   ],
   "metadata": {
    "collapsed": false
   }
  },
  {
   "cell_type": "markdown",
   "source": [
    "# Trees, Boosting"
   ],
   "metadata": {
    "collapsed": false
   }
  },
  {
   "cell_type": "markdown",
   "source": [
    "### Random Forest"
   ],
   "metadata": {
    "collapsed": false
   }
  },
  {
   "cell_type": "code",
   "execution_count": 8,
   "outputs": [],
   "source": [
    "perform_grid_search = False\n",
    "\n",
    "if perform_grid_search:\n",
    "    rf_parameters = {'n_estimators': [80, 100, 150, 300],\n",
    "                     'max_depth': [6, 10, 20, None],\n",
    "                     'max_features': ['sqrt', 'log2', 0.5, None],\n",
    "                     'criterion': ['gini', 'entropy', 'log_loss']}\n",
    "    grid_search_random_forest = sklearn.model_selection.GridSearchCV(sklearn.ensemble.RandomForestClassifier(),\n",
    "                                                                     rf_parameters,\n",
    "                                                                     scoring='accuracy',\n",
    "                                                                     cv=5,\n",
    "                                                                     verbose=2)\n",
    "\n",
    "    grid_search_random_forest.fit(full_train_X, full_train_y)"
   ],
   "metadata": {
    "collapsed": false
   }
  },
  {
   "cell_type": "code",
   "execution_count": 9,
   "outputs": [],
   "source": [
    "perform_cv = False\n",
    "\n",
    "if perform_cv:\n",
    "    scores_random_forest = sklearn.model_selection.cross_validate(sklearn.ensemble.RandomForestClassifier(),\n",
    "                                                                  full_train_X,\n",
    "                                                                  full_train_y,\n",
    "                                                                  cv=5,\n",
    "                                                                  verbose=2,\n",
    "                                                                  scoring='accuracy')\n",
    "\n",
    "    print(scores_random_forest['test_score'].mean())"
   ],
   "metadata": {
    "collapsed": false
   }
  },
  {
   "cell_type": "markdown",
   "source": [
    "### AdaBoost"
   ],
   "metadata": {
    "collapsed": false
   }
  },
  {
   "cell_type": "code",
   "execution_count": 10,
   "outputs": [],
   "source": [
    "perform_cv = False\n",
    "\n",
    "if perform_cv:\n",
    "    scores_adaboost = sklearn.model_selection.cross_validate(sklearn.ensemble.AdaBoostClassifier(sklearn.tree.DecisionTreeClassifier(max_depth=15), n_estimators=100, learning_rate=2.0),\n",
    "                                                            full_train_X,\n",
    "                                                            full_train_y,\n",
    "                                                            cv=5,\n",
    "                                                            verbose=2,\n",
    "                                                            scoring='accuracy')\n",
    "\n",
    "    print(scores_adaboost['test_score'].mean())"
   ],
   "metadata": {
    "collapsed": false
   }
  },
  {
   "cell_type": "markdown",
   "source": [
    "### XGBoost"
   ],
   "metadata": {
    "collapsed": false
   }
  },
  {
   "cell_type": "code",
   "execution_count": 11,
   "outputs": [],
   "source": [
    "perform_grid_search = False\n",
    "\n",
    "if perform_grid_search:\n",
    "    xgb_parameters = {'max_depth': [12, 13, 14],\n",
    "                      'learning_rate': [0.22, 0.25, 0.27]}\n",
    "    grid_search_xgb = sklearn.model_selection.GridSearchCV(xgboost.XGBClassifier(verbosity=0, use_label_encoder=False),\n",
    "                                                           xgb_parameters,\n",
    "                                                                     scoring='accuracy',\n",
    "                                                                     cv=5,\n",
    "                                                                     verbose=2)\n",
    "\n",
    "    grid_search_xgb.fit(full_train_X, full_train_y)"
   ],
   "metadata": {
    "collapsed": false
   }
  },
  {
   "cell_type": "markdown",
   "source": [
    "Best found: ``{'learning_rate': 0.25, 'max_depth': 14}``"
   ],
   "metadata": {
    "collapsed": false
   }
  },
  {
   "cell_type": "code",
   "execution_count": 12,
   "outputs": [],
   "source": [
    "perform_cv = False\n",
    "\n",
    "if perform_cv:\n",
    "    scores_xgboost = sklearn.model_selection.cross_validate(xgboost.XGBClassifier(verbosity=0, use_label_encoder=False, max_depth=14, learning_rate=0.25),\n",
    "                                                             full_train_X,\n",
    "                                                             full_train_y,\n",
    "                                                             cv=5,\n",
    "                                                             verbose=2,\n",
    "                                                             scoring='accuracy')\n",
    "\n",
    "    print(scores_xgboost['test_score'].mean())"
   ],
   "metadata": {
    "collapsed": false
   }
  },
  {
   "cell_type": "markdown",
   "source": [
    "### LightGBM"
   ],
   "metadata": {
    "collapsed": false
   }
  },
  {
   "cell_type": "code",
   "execution_count": 13,
   "outputs": [],
   "source": [
    "perform_grid_search = False\n",
    "\n",
    "if perform_grid_search:\n",
    "    lightgbm_parameters = {'max_depth': [15, 20, 25, 30, -1],\n",
    "                           'colsample_bytree': [0.8, 1.0],\n",
    "                           'learning_rate': [0.25, 0.3, 0.35, 0.4],\n",
    "                           'num_leaves': [25, 31, 40, 50, 62],\n",
    "                           'reg_lambda': [0.0, 1.0],\n",
    "                           'min_child_samples': [10, 20, 30],\n",
    "                           'n_estimators': [200]}\n",
    "    grid_search_lightgbm = sklearn.model_selection.GridSearchCV(lightgbm.sklearn.LGBMClassifier(),\n",
    "                                                                lightgbm_parameters,\n",
    "                                                                scoring='accuracy',\n",
    "                                                                cv=5,\n",
    "                                                                verbose=2)\n",
    "\n",
    "    grid_search_lightgbm.fit(full_train_X, full_train_y)"
   ],
   "metadata": {
    "collapsed": false
   }
  },
  {
   "cell_type": "code",
   "execution_count": 14,
   "outputs": [],
   "source": [
    "perform_cv = False\n",
    "\n",
    "if perform_cv:\n",
    "    scores_lightgbm = sklearn.model_selection.cross_validate(lightgbm.sklearn.LGBMClassifier(max_depth=25, learning_rate=0.25, n_estimators=200, num_leaves=62, colsample_bytree=1.0, reg_lambda=0.0, min_child_samples=10),\n",
    "                                                             full_train_X,\n",
    "                                                             full_train_y,\n",
    "                                                             cv=5,\n",
    "                                                             verbose=2,\n",
    "                                                             scoring='accuracy')\n",
    "\n",
    "    print(scores_lightgbm['test_score'].mean())"
   ],
   "metadata": {
    "collapsed": false
   }
  },
  {
   "cell_type": "markdown",
   "source": [
    "# Make submission"
   ],
   "metadata": {
    "collapsed": false
   }
  },
  {
   "cell_type": "code",
   "execution_count": 15,
   "outputs": [],
   "source": [
    "use_dl = False\n",
    "\n",
    "if use_dl:\n",
    "    ckpt_folder = 'checkpoints/EmbedMLP_53_5_256_LR1E-3expGamma0.985_embed10_dropout0.5_AdamW_CV/checkpoints'\n",
    "\n",
    "    model = EmbedMLPModel()\n",
    "\n",
    "    dl_results = []\n",
    "    for ckpt_name in os.listdir(ckpt_folder):\n",
    "        ckpt_path = os.path.join(ckpt_folder, ckpt_name)\n",
    "        model = model.load_from_checkpoint(ckpt_path)\n",
    "        model.eval()\n",
    "\n",
    "        test_results = model((torch.tensor(full_test_X), -1))\n",
    "\n",
    "        predictions = torch.argmax(test_results, dim=1).numpy() + 1\n",
    "        dl_results.append(predictions)\n",
    "\n",
    "    dl_predictions = scipy.stats.mode(np.array(dl_results)).mode[0]"
   ],
   "metadata": {
    "collapsed": false
   }
  },
  {
   "cell_type": "code",
   "execution_count": 16,
   "outputs": [],
   "source": [
    "make_submission = False\n",
    "\n",
    "if make_submission:\n",
    "    if full_train_X.shape[1] > 12:\n",
    "        new_train_X = np.zeros((full_train_X.shape[0], 12))\n",
    "        new_test_X = np.zeros((full_test_X.shape[0], 12))\n",
    "\n",
    "        new_train_X[:, :-2] = full_train_X[:, :10]\n",
    "        new_train_X[:, -2] = np.argmax(full_train_X[:, -43:-39], axis=1)\n",
    "        new_train_X[:, -1] = np.argmax(full_train_X[:, -39:], axis=1)\n",
    "\n",
    "        new_test_X[:, :-2] = full_test_X[:, :10]\n",
    "        new_test_X[:, -2] = np.argmax(full_test_X[:, -43:-39], axis=1)\n",
    "        new_test_X[:, -1] = np.argmax(full_test_X[:, -39:], axis=1)\n",
    "\n",
    "        full_test_X = new_test_X\n",
    "        full_train_X = new_train_X\n",
    "\n",
    "    results = []\n",
    "\n",
    "    model = lightgbm.sklearn.LGBMClassifier(max_depth=25, learning_rate=0.25, n_estimators=200, num_leaves=62, colsample_bytree=1.0, reg_lambda=0.0, min_child_samples=10)\n",
    "    model.fit(full_train_X, full_train_y)\n",
    "    results.append(model.predict(full_test_X) + 1)\n",
    "\n",
    "    model = xgboost.XGBClassifier(verbosity=0, use_label_encoder=False, max_depth=14, learning_rate=0.25)\n",
    "    model.fit(full_train_X, full_train_y)\n",
    "    results.append(model.predict(full_test_X) + 1)\n",
    "\n",
    "    results.append(dl_predictions)\n",
    "\n",
    "    test_ids = test_df['Id']\n",
    "    final_predictions = scipy.stats.mode(np.array(results)).mode[0]\n",
    "    submission_df = pd.DataFrame(data={'Cover_Type': final_predictions})\n",
    "    submission_df = pd.concat([test_ids, submission_df], axis=1)\n",
    "    submission_df.to_csv('data/submission.csv', index=False)"
   ],
   "metadata": {
    "collapsed": false
   }
  }
 ],
 "metadata": {
  "kernelspec": {
   "display_name": "Python 3",
   "language": "python",
   "name": "python3"
  },
  "language_info": {
   "codemirror_mode": {
    "name": "ipython",
    "version": 2
   },
   "file_extension": ".py",
   "mimetype": "text/x-python",
   "name": "python",
   "nbconvert_exporter": "python",
   "pygments_lexer": "ipython2",
   "version": "2.7.6"
  }
 },
 "nbformat": 4,
 "nbformat_minor": 0
}
